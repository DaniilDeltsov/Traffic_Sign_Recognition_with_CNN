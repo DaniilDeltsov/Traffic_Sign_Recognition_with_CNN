{
 "cells": [
  {
   "cell_type": "code",
   "execution_count": 249,
   "id": "81afc007-f7a0-4b85-8214-a9350b4baee3",
   "metadata": {},
   "outputs": [],
   "source": [
    "import numpy as np\n",
    "import pandas as pd\n",
    "import cv2\n",
    "from PIL import Image\n",
    "import os\n",
    "\n",
    "import matplotlib.pyplot as plt\n",
    "import seaborn as sns\n",
    "%matplotlib inline\n",
    "\n",
    "from tqdm.notebook import tqdm\n",
    "import tensorflow as tf\n",
    "from tensorflow import keras\n",
    "from tensorflow.keras.utils import to_categorical\n",
    "from tensorflow.keras.layers import Dense, Conv2D, MaxPool2D, BatchNormalization, Flatten, Dropout\n",
    "from tensorflow.keras import Sequential\n",
    "from tensorflow.keras.preprocessing.image import ImageDataGenerator\n",
    "\n",
    "from sklearn.model_selection import train_test_split\n",
    "from sklearn.metrics import accuracy_score, classification_report"
   ]
  },
  {
   "cell_type": "code",
   "execution_count": 2,
   "id": "601fd9f2-a282-41bc-88b9-e7240805ac0a",
   "metadata": {},
   "outputs": [],
   "source": [
    "# set default settings\n",
    "IMG_HEIGHT = 30\n",
    "IMG_WIDTH = 30\n",
    "\n",
    "EPOCHS = 30\n",
    "BATCH_SIZE = 32\n",
    "LEARNING_RATE = 0.001"
   ]
  },
  {
   "cell_type": "code",
   "execution_count": 3,
   "id": "a9edb52e-864e-4d30-a156-101b3cfc9415",
   "metadata": {},
   "outputs": [
    {
     "data": {
      "text/plain": [
       "205"
      ]
     },
     "execution_count": 3,
     "metadata": {},
     "output_type": "execute_result"
    }
   ],
   "source": [
    "# get num of classes\n",
    "num_classes = len(os.listdir(\"C:/Users/Daniil/Jupyter/SignsData/Train\"))\n",
    "num_classes"
   ]
  },
  {
   "cell_type": "code",
   "execution_count": 4,
   "id": "48982eb3-7908-4121-ba7f-3b70f43d9bf1",
   "metadata": {},
   "outputs": [],
   "source": [
    "# make labels for all classes\n",
    "classes = { \n",
    "            0: \"Ограничение скорости (20км/ч)\",\n",
    "            1: \"Ограничение скорости (30км/ч)\", \n",
    "            2: \"Ограничение скорости (50км/ч)\", \n",
    "            3: \"Ограничение скорости (60км/ч)\", \n",
    "            4: \"Ограничение скорости (70км/ч)\", \n",
    "            5: \"Ограничение скорости (80км/ч)\", \n",
    "            6: \"Конец ограничения скорости (80км/ч)\", \n",
    "            7: \"Ограничение скорости (100км/ч)\", \n",
    "            8: \"Ограничение скорости (120км/ч)\", \n",
    "            9: \"Обгон запрещен\", \n",
    "            10 :\"Обгон грузовым автомобилям запрещен\", \n",
    "            11 :\"Пересечение со второстепенной дорогой\", \n",
    "            12 :\"Главная дорога\", \n",
    "            13 :\"Уступите дорогу\", \n",
    "            14 :\"Стоп\", \n",
    "            15 :\"Движение запрещено\", \n",
    "            16 :\"Движение грузовых автомобилей запрещено\", \n",
    "            17 :\"Въезд запрещен\", \n",
    "            18 :\"Причие опасности\", \n",
    "            19 :\"Опасный поворот налево\", \n",
    "            20 :\"Опасный поворот направо\", \n",
    "            21 :\"Опасные повороты\", \n",
    "            22 :\"Неровная дорога\", \n",
    "            23 :\"Скользкая дорога\", \n",
    "            24: \"Сужение дороги\", \n",
    "            25: \"Дорожные работы\", \n",
    "            26: \"Светофорное регулирование\", \n",
    "            27: \"Пешеходный переход\", \n",
    "            28: \"Дети\", \n",
    "            29: \"Пересечение с велосипедной дорожкой\", \n",
    "            30: \"Впереди снег/лед\",\n",
    "            31: \"Дикие животные\", \n",
    "            32: \"Конец всех ограничений\", \n",
    "            33: \"Поворот направо\", \n",
    "            34: \"Поворот налево\", \n",
    "            35: \"Движение только прямо\", \n",
    "            36: \"Прямо или направо\", \n",
    "            37: \"Прямо или налево\", \n",
    "            38: \"Держитесь правее\", \n",
    "            39: \"Держитесь левее\", \n",
    "            40: \"Круговое движение\", \n",
    "            41: \"Конец зоны ограничения обгона\", \n",
    "            42: \"Конец зоны ограничения обгона для грузовых ТС\",\n",
    "            43: \"Конец главной дороги\",\n",
    "            44: \"Примыкание второстепенной дороги справа\",\n",
    "            45: \"Примыкание второстепенной дороги слева\",\n",
    "            46: \"Приемущество встречного движения\",\n",
    "            47: \"Приемущество перед встречным движением\",\n",
    "            48: \"Ж/Д переезд со шлагбаумом\",\n",
    "            49: \"Ж/Д переезд без шлагбаума\",\n",
    "            50: \"Однопутная железная дорога\",\n",
    "            51: \"Многопутная железная дорога\",\n",
    "            52: \"Приближение к Ж/Д переезду\",\n",
    "            53: \"Пересечение с трамвайной линией\",\n",
    "            54: \"Пересечение равнозначных дорог\",\n",
    "            55: \"Пересечение с круговым движением\",\n",
    "            56: \"Разводной мост\",\n",
    "            57: \"Выезд на набережную\",\n",
    "            58: \"Крутой спуск\",\n",
    "            59: \"Крутой подъем\",\n",
    "            60: \"Искусственная неровность\",\n",
    "            61: \"Выброс гравия\",\n",
    "            62: \"Опасная обочина\",\n",
    "            63: \"Двустороннее движение\",\n",
    "            64: \"Перегон скота\",\n",
    "            65: \"Падение камней\",\n",
    "            66: \"Боковой ветер\",\n",
    "            67: \"Низколетящие самолеты\",\n",
    "            68: \"Тоннель\",\n",
    "            69: \"Затор\",\n",
    "            70: \"Направление поворота (лево)\",\n",
    "            71: \"Направление поворота (право)\",\n",
    "            72: \"Движение м/ТС запрещено\",\n",
    "            73: \"Движение мотоциклов запрещено\",\n",
    "            74: \"Движение тракторов запрещено\",\n",
    "            75: \"Движение с прицепом запрещено\",\n",
    "            76: \"Движение гужевых повозок запрещено\",\n",
    "            77: \"Движение на велосипедах запрещено\",\n",
    "            78: \"Движение пешеходов запрещено\",\n",
    "            79: \"Ограничение массы\",\n",
    "            80: \"Ограничение массы на ось ТС\",\n",
    "            81: \"Ограничение высоты\",\n",
    "            82: \"Ограничение ширины\",\n",
    "            83: \"Ограничение длины\",\n",
    "            84: \"Ограничение минимальной дистанции\",\n",
    "            85: \"Таможня\",\n",
    "            86: \"Опасность\",\n",
    "            87: \"Контроль\",\n",
    "            88: \"Поворот направо запрещен\",\n",
    "            89: \"Поворот налево запрещен\",\n",
    "            90: \"Разворот запрещен\",\n",
    "            91: \"Подача звукового сигнала запрещена\",\n",
    "            92: \"Остановка запрещена\",\n",
    "            93: \"Стоянка запрещена\",\n",
    "            94: \"Стоянка запрещена по нечетным числам\",\n",
    "            95: \"Стоянка запрещена по четным числам\",\n",
    "            96: \"Движение с опасными грузами запрещено\",\n",
    "            97: \"Движение с взрывчатыми грузами запрещено\",\n",
    "            98: \"Движение направо или налево\",\n",
    "            99: \"Объезд препятствия справа или слева\",\n",
    "            100: \"Велосипедная дорожка\",\n",
    "            101: \"Конец велосипедной дорожки\",\n",
    "            102: \"Пешеходная дорожка\",\n",
    "            103: \"Пешеходно-велосипедная дорожка\",\n",
    "            104: \"Конец пешеходно-велосипедной дорожки\",\n",
    "            105: \"Пешеходная и велосипедная дорожка с разделением\",\n",
    "            106: \"Конец пешеходной и велосипедной дорожки с разделением\",\n",
    "            107: \"Ограничение минимальной скорости\",\n",
    "            108: \"Конец зоны ограничения минимальной скорости\",\n",
    "            109: \"Направление движения ТС с опасными грузами\",\n",
    "            110: \"Автомагистраль\",\n",
    "            111: \"Конец автомагистрали\",\n",
    "            112: \"Дорога для автомобилей\",\n",
    "            113: \"Конец дороги для автомобилей\",\n",
    "            114: \"Дорога с односторонним движением\",\n",
    "            115: \"Конец дороги с односторонним движением\",\n",
    "            116: \"Выезд на дорогу с односторонним движением\",\n",
    "            117: \"Реверсивное движение\",\n",
    "            118: \"Конец реверсивного движения\",\n",
    "            119: \"Выезд на дорогу с реверсивным движением\",\n",
    "            120: \"Дорога с полосой для маршрутных ТС\",\n",
    "            121: \"Дорога с полосой для велосипедистов\",\n",
    "            122: \"Конец дороги с полосой для маршрутных ТС\",\n",
    "            123: \"Конец дороги с полосой для велосипедистов\",\n",
    "            124: \"Выезд на дорогу с полосой для маршрутных ТС\",\n",
    "            125: \"Выезд на дорогу с полосой для велосипедистов\",\n",
    "            126: \"Полоса для маршрутных ТС\",\n",
    "            127: \"Конец полосы для маршрутных ТС\",\n",
    "            128: \"Полоса для велосипедистов\",\n",
    "            129: \"Конец полосы для велосипедистов\",\n",
    "            130: \"Направления движения по полосе\",\n",
    "            131: \"Конец полосы\",\n",
    "            132: \"Число полос\",\n",
    "            133: \"Место остановки автобуса\",\n",
    "            134: \"Место остановки трамвая\",\n",
    "            135: \"Место стоянки легковых такси\",\n",
    "            136: \"Жилая зона\",\n",
    "            137: \"Конец жилой зоны\",\n",
    "            138: \"Начало населеного пункта\",\n",
    "            139: \"Конец населеного пункта\",\n",
    "            140: \"Зона с ограничением стоянки\",\n",
    "            141: \"Конец зоны с ограничением стоянки\",\n",
    "            142: \"Зона регулируемой стоянки\",\n",
    "            143: \"Конец зоны регулируемой стоянки\",\n",
    "            144: \"Зона с ограничением максимальной скорости\",\n",
    "            145: \"Конец зоны с ограничением максимальной скорости\",\n",
    "            146: \"Пешеходная зона\",\n",
    "            147: \"Конец пешеходной зоны\",\n",
    "            148: \"Общие ограничения максимальной скорости\",\n",
    "            149: \"Рекомендуемая скорость\",\n",
    "            150: \"Место для разворота\",\n",
    "            151: \"Зона для разворота\",\n",
    "            152: \"Парковка\",\n",
    "            153: \"Полоса аварийной остановки\",\n",
    "            154: \"Подземный пешеходный переход\",\n",
    "            155: \"Надземный переходный переход\",\n",
    "            156: \"Тупик\",\n",
    "            157: \"Предварительный указатель направлений\",\n",
    "            158: \"Схема движения\",\n",
    "            159: \"Указатель направлений\",\n",
    "            160: \"Указатель расстояний\",\n",
    "            161: \"Километровый знак\",\n",
    "            162: \"Номер маршрута\",\n",
    "            163: \"Напревление движения для грузовых автомобилей\",\n",
    "            164: \"Стоп линия\",\n",
    "            165: \"Пункт медицинской помощи\",\n",
    "            166: \"Больница\",\n",
    "            167: \"АЗС\",\n",
    "            168: \"Техническое обслуживание автомобилей\",\n",
    "            169: \"Мойка автомобилей\",\n",
    "            170: \"Телефон\",\n",
    "            171: \"Пункт питания\",\n",
    "            172: \"Питьевая вода\",\n",
    "            173: \"Гостиница\",\n",
    "            174: \"Кемпинг\",\n",
    "            175: \"Место отдыха\",\n",
    "            176: \"Пост ДПС\",\n",
    "            177: \"Полиция\",\n",
    "            178: \"Пункт транспортного контроля\",\n",
    "            179: \"Пляж\",\n",
    "            180: \"Туалет\",\n",
    "            181: \"Телефон экстренной связи\",\n",
    "            182: \"Огнетушитель\",\n",
    "            183: \"Расстояние до объекта\",\n",
    "            184: \"Зона действия\",\n",
    "            185: \"Вид ТС\",\n",
    "            186: \"Кроме вида ТС\",\n",
    "            187: \"Субботние, воскресные и праздничные дни\",\n",
    "            188: \"Рабочие дни\",\n",
    "            189: \"Время действия\",\n",
    "            190: \"Способ постановки ТС на стоянку\",\n",
    "            191: \"Стоянка с неработающим двигателем\",\n",
    "            192: \"Платные услуги\",\n",
    "            193: \"Ограничение продолжительности стоянки\",\n",
    "            194: \"Место для осмотра автомобилей\",\n",
    "            195: \"Ограничение максимально разрешенной массы\",\n",
    "            196: \"Опасная обочина\",\n",
    "            197: \"Направление главной дороги\",\n",
    "            198: \"Полоса движения\",\n",
    "            199: \"Слепые пешеходы\",\n",
    "            200: \"Влажное покрытие\",\n",
    "            201: \"Инвалиды\",\n",
    "            202: \"Кроме инвалидов\",\n",
    "            203: \"Фотовидеофиксация\",\n",
    "            204: \"Работает эвакуатор\"\n",
    "          }"
   ]
  },
  {
   "cell_type": "code",
   "execution_count": 5,
   "id": "31add79e-26bb-4c7e-8dbe-565deb010b8a",
   "metadata": {},
   "outputs": [
    {
     "data": {
      "application/vnd.jupyter.widget-view+json": {
       "model_id": "a8d26840124e48aead3ae845a2512658",
       "version_major": 2,
       "version_minor": 0
      },
      "text/plain": [
       "  0%|          | 0/205 [00:00<?, ?it/s]"
      ]
     },
     "metadata": {},
     "output_type": "display_data"
    }
   ],
   "source": [
    "# store images info and class labels to array\n",
    "img_info = []\n",
    "img_class = []\n",
    "\n",
    "# loop through all folders to get images\n",
    "for folder in tqdm(range(num_classes)):\n",
    "    path = \"C:/Users/Daniil/Jupyter/SignsData/Train/\" + str(folder)\n",
    "    images = os.listdir(path)\n",
    "    \n",
    "    # collect and resize every single image\n",
    "    for img in images:\n",
    "        try:\n",
    "            # for easier manipulating PIL.Image is used\n",
    "            image = cv2.imread(path + \"/\" + img)\n",
    "            image = Image.fromarray(image, \"RGB\")\n",
    "            image = image.resize((IMG_HEIGHT, IMG_WIDTH))\n",
    "            img_info.append(np.array(image))\n",
    "            img_class.append(folder)\n",
    "        except:\n",
    "            print(\"Error occured in:\", img)\n",
    "\n",
    "# convert to array\n",
    "img_info = np.array(img_info)\n",
    "img_class = np.array(img_class)"
   ]
  },
  {
   "cell_type": "code",
   "execution_count": 254,
   "id": "c339f02b-d56c-4aae-a2f7-44ee6686830a",
   "metadata": {},
   "outputs": [
    {
     "name": "stdout",
     "output_type": "stream",
     "text": [
      "(97889, 30, 30, 3) (97889,)\n"
     ]
    }
   ],
   "source": [
    "# 97889 images 30x30 RGB\n",
    "print(img_info.shape, img_class.shape)"
   ]
  },
  {
   "cell_type": "code",
   "execution_count": 7,
   "id": "d3714806-bf52-4fdb-a8c9-34d433cf236e",
   "metadata": {},
   "outputs": [],
   "source": [
    "# shuffle all training images (classes should be shuffled the same way)\n",
    "index_shuffler = np.arange(img_info.shape[0])\n",
    "np.random.shuffle(index_shuffler)\n",
    "\n",
    "img_info = img_info[index_shuffler]\n",
    "img_class = img_class[index_shuffler]"
   ]
  },
  {
   "cell_type": "code",
   "execution_count": 8,
   "id": "9b323430-6a8d-4ea5-9c64-36210f6f2b39",
   "metadata": {},
   "outputs": [],
   "source": [
    "# shuffle again just to be pretty sure\n",
    "X_train, X_val, y_train, y_val = train_test_split(img_info, img_class, test_size=0.25, random_state=42, shuffle=True)\n",
    "\n",
    "# normalize data to have all images from 0 to 1\n",
    "X_train = X_train / 255\n",
    "X_val = X_val / 255"
   ]
  },
  {
   "cell_type": "code",
   "execution_count": 9,
   "id": "42bc001a-a1d8-45b0-8c4b-ab966d038f72",
   "metadata": {},
   "outputs": [],
   "source": [
    "# encode class labels\n",
    "y_train = to_categorical(y_train, num_classes)\n",
    "y_val = to_categorical(y_val, num_classes)"
   ]
  },
  {
   "cell_type": "code",
   "execution_count": 10,
   "id": "a1ff98ca-f5da-4f03-9052-58d081f1771e",
   "metadata": {},
   "outputs": [],
   "source": [
    "model = Sequential([\n",
    "    # start block \n",
    "    Conv2D(filters=16, kernel_size=(3, 3), activation=\"relu\", input_shape=(IMG_HEIGHT, IMG_WIDTH, 3)),\n",
    "    Conv2D(filters=32, kernel_size=(3, 3), activation=\"relu\"),\n",
    "    MaxPool2D(pool_size=(2, 2)),\n",
    "    BatchNormalization(axis=-1),\n",
    "    \n",
    "    # middle block \n",
    "    Conv2D(filters=64, kernel_size=(3, 3), activation=\"relu\"),\n",
    "    Conv2D(filters=128, kernel_size=(3, 3), activation=\"relu\"), \n",
    "    MaxPool2D(pool_size=(2, 2)),\n",
    "    BatchNormalization(axis=-1),\n",
    "    \n",
    "    # final block\n",
    "    Flatten(),\n",
    "    Dense(512, activation=\"relu\"), \n",
    "    BatchNormalization(),\n",
    "    Dropout(rate=0.5),\n",
    "    \n",
    "    # output\n",
    "    Dense(205, activation=\"softmax\")\n",
    "])"
   ]
  },
  {
   "cell_type": "code",
   "execution_count": 11,
   "id": "2eb42112-7234-4a8a-add5-594f8c8bd267",
   "metadata": {},
   "outputs": [],
   "source": [
    "model.compile(optimizer=tf.keras.optimizers.Adam(learning_rate=LEARNING_RATE, decay=LEARNING_RATE * 1/2),\n",
    "              loss=\"categorical_crossentropy\",\n",
    "              metrics=[\"accuracy\"])"
   ]
  },
  {
   "cell_type": "code",
   "execution_count": 12,
   "id": "ea1e29c5-4b86-4b0e-894e-7fea8449a7f4",
   "metadata": {},
   "outputs": [],
   "source": [
    "# data augmentation online\n",
    "augmentator = ImageDataGenerator(rotation_range=10, \n",
    "                                 zoom_range=0.15,\n",
    "                                 height_shift_range=0.1,\n",
    "                                 width_shift_range=0.1,\n",
    "                                 shear_range=0.15)"
   ]
  },
  {
   "cell_type": "code",
   "execution_count": 13,
   "id": "e8b729d1-ad6d-4f3b-9310-027b5cc68790",
   "metadata": {},
   "outputs": [
    {
     "name": "stdout",
     "output_type": "stream",
     "text": [
      "Epoch 1/30\n",
      "2295/2295 [==============================] - 81s 35ms/step - loss: 1.5406 - accuracy: 0.6199 - val_loss: 0.2442 - val_accuracy: 0.9336\n",
      "Epoch 2/30\n",
      "2295/2295 [==============================] - 77s 34ms/step - loss: 0.4685 - accuracy: 0.8665 - val_loss: 0.1179 - val_accuracy: 0.9660\n",
      "Epoch 3/30\n",
      "2295/2295 [==============================] - 79s 34ms/step - loss: 0.2942 - accuracy: 0.9150 - val_loss: 0.0748 - val_accuracy: 0.9783\n",
      "Epoch 4/30\n",
      "2295/2295 [==============================] - 80s 35ms/step - loss: 0.2281 - accuracy: 0.9336 - val_loss: 0.0538 - val_accuracy: 0.9851\n",
      "Epoch 5/30\n",
      "2295/2295 [==============================] - 80s 35ms/step - loss: 0.1817 - accuracy: 0.9471 - val_loss: 0.0463 - val_accuracy: 0.9858\n",
      "Epoch 6/30\n",
      "2295/2295 [==============================] - 80s 35ms/step - loss: 0.1556 - accuracy: 0.9536 - val_loss: 0.0398 - val_accuracy: 0.9882\n",
      "Epoch 7/30\n",
      "2295/2295 [==============================] - 79s 34ms/step - loss: 0.1352 - accuracy: 0.9608 - val_loss: 0.0337 - val_accuracy: 0.9906\n",
      "Epoch 8/30\n",
      "2295/2295 [==============================] - 79s 34ms/step - loss: 0.1232 - accuracy: 0.9639 - val_loss: 0.0304 - val_accuracy: 0.9912\n",
      "Epoch 9/30\n",
      "2295/2295 [==============================] - 78s 34ms/step - loss: 0.1125 - accuracy: 0.9672 - val_loss: 0.0246 - val_accuracy: 0.9932\n",
      "Epoch 10/30\n",
      "2295/2295 [==============================] - 78s 34ms/step - loss: 0.1034 - accuracy: 0.9690 - val_loss: 0.0267 - val_accuracy: 0.9925\n",
      "Epoch 11/30\n",
      "2295/2295 [==============================] - 78s 34ms/step - loss: 0.0935 - accuracy: 0.9722 - val_loss: 0.0231 - val_accuracy: 0.9935\n",
      "Epoch 12/30\n",
      "2295/2295 [==============================] - 78s 34ms/step - loss: 0.0903 - accuracy: 0.9737 - val_loss: 0.0230 - val_accuracy: 0.9940\n",
      "Epoch 13/30\n",
      "2295/2295 [==============================] - 78s 34ms/step - loss: 0.0828 - accuracy: 0.9750 - val_loss: 0.0212 - val_accuracy: 0.9939\n",
      "Epoch 14/30\n",
      "2295/2295 [==============================] - 78s 34ms/step - loss: 0.0785 - accuracy: 0.9760 - val_loss: 0.0229 - val_accuracy: 0.9935\n",
      "Epoch 15/30\n",
      "2295/2295 [==============================] - 78s 34ms/step - loss: 0.0758 - accuracy: 0.9773 - val_loss: 0.0207 - val_accuracy: 0.9941\n",
      "Epoch 16/30\n",
      "2295/2295 [==============================] - 77s 34ms/step - loss: 0.0729 - accuracy: 0.9785 - val_loss: 0.0200 - val_accuracy: 0.9944\n",
      "Epoch 17/30\n",
      "2295/2295 [==============================] - 76s 33ms/step - loss: 0.0695 - accuracy: 0.9794 - val_loss: 0.0202 - val_accuracy: 0.9943\n",
      "Epoch 18/30\n",
      "2295/2295 [==============================] - 76s 33ms/step - loss: 0.0661 - accuracy: 0.9801 - val_loss: 0.0194 - val_accuracy: 0.9949\n",
      "Epoch 19/30\n",
      "2295/2295 [==============================] - 77s 33ms/step - loss: 0.0644 - accuracy: 0.9810 - val_loss: 0.0194 - val_accuracy: 0.9951\n",
      "Epoch 20/30\n",
      "2295/2295 [==============================] - 76s 33ms/step - loss: 0.0618 - accuracy: 0.9815 - val_loss: 0.0177 - val_accuracy: 0.9953\n",
      "Epoch 21/30\n",
      "2295/2295 [==============================] - 76s 33ms/step - loss: 0.0589 - accuracy: 0.9818 - val_loss: 0.0176 - val_accuracy: 0.9953\n",
      "Epoch 22/30\n",
      "2295/2295 [==============================] - 76s 33ms/step - loss: 0.0589 - accuracy: 0.9825 - val_loss: 0.0169 - val_accuracy: 0.9957\n",
      "Epoch 23/30\n",
      "2295/2295 [==============================] - 75s 33ms/step - loss: 0.0582 - accuracy: 0.9826 - val_loss: 0.0160 - val_accuracy: 0.9958\n",
      "Epoch 24/30\n",
      "2295/2295 [==============================] - 76s 33ms/step - loss: 0.0571 - accuracy: 0.9834 - val_loss: 0.0164 - val_accuracy: 0.9959\n",
      "Epoch 25/30\n",
      "2295/2295 [==============================] - 76s 33ms/step - loss: 0.0534 - accuracy: 0.9836 - val_loss: 0.0158 - val_accuracy: 0.9959\n",
      "Epoch 26/30\n",
      "2295/2295 [==============================] - 79s 35ms/step - loss: 0.0526 - accuracy: 0.9841 - val_loss: 0.0146 - val_accuracy: 0.9962\n",
      "Epoch 27/30\n",
      "2295/2295 [==============================] - 80s 35ms/step - loss: 0.0514 - accuracy: 0.9843 - val_loss: 0.0161 - val_accuracy: 0.9955\n",
      "Epoch 28/30\n",
      "2295/2295 [==============================] - 80s 35ms/step - loss: 0.0496 - accuracy: 0.9848 - val_loss: 0.0148 - val_accuracy: 0.9962\n",
      "Epoch 29/30\n",
      "2295/2295 [==============================] - 80s 35ms/step - loss: 0.0482 - accuracy: 0.9858 - val_loss: 0.0153 - val_accuracy: 0.9958\n",
      "Epoch 30/30\n",
      "2295/2295 [==============================] - 80s 35ms/step - loss: 0.0509 - accuracy: 0.9845 - val_loss: 0.0153 - val_accuracy: 0.9960\n"
     ]
    }
   ],
   "source": [
    "history = model.fit(augmentator.flow(X_train, y_train, batch_size=BATCH_SIZE), epochs=EPOCHS, validation_data=(X_val, y_val))"
   ]
  },
  {
   "cell_type": "code",
   "execution_count": 280,
   "id": "6c4c5270-c8d4-4a95-9b46-75be3d0c7b27",
   "metadata": {},
   "outputs": [
    {
     "data": {
      "text/plain": [
       "<AxesSubplot:>"
      ]
     },
     "execution_count": 280,
     "metadata": {},
     "output_type": "execute_result"
    },
    {
     "data": {
      "image/png": "[encoded data removed]",
      "text/plain": [
       "<Figure size 864x432 with 1 Axes>"
      ]
     },
     "metadata": {
      "needs_background": "light"
     },
     "output_type": "display_data"
    }
   ],
   "source": [
    "pd.DataFrame(history.history).plot(figsize=(12, 6))"
   ]
  },
  {
   "cell_type": "markdown",
   "id": "1a9e4195-8b19-45e6-baa4-0cbaa76d8103",
   "metadata": {},
   "source": [
    "## Check accuracy and classification report"
   ]
  },
  {
   "cell_type": "code",
   "execution_count": 242,
   "id": "0c464943-3532-409c-ab17-8ad0f89e1fd5",
   "metadata": {},
   "outputs": [],
   "source": [
    "test = pd.read_csv(\"C:/Users/Daniil/Jupyter/SignsData/Test_data.csv\")\n",
    "labels = test[\"ClassId\"].values\n",
    "labels = labels.astype(\"int64\")\n",
    "imgs = test[\"Path\"].values\n",
    "\n",
    "data = []\n",
    "data_dir = \"C:/Users/Daniil/Jupyter/SignsData\"\n",
    "\n",
    "for img in imgs:\n",
    "    try:\n",
    "        image = cv2.imread(data_dir + \"/\" + img)\n",
    "        image_fromarray = Image.fromarray(image, 'RGB')\n",
    "        resize_image = image_fromarray.resize((IMG_HEIGHT, IMG_WIDTH))\n",
    "        data.append(np.array(resize_image))\n",
    "    except:\n",
    "        print(\"Error in \" + img)"
   ]
  },
  {
   "cell_type": "code",
   "execution_count": 243,
   "id": "387e4aa1-1aa8-4c94-abaa-4c233aa3cc03",
   "metadata": {},
   "outputs": [],
   "source": [
    "X_test = np.array(data)\n",
    "X_test = X_test/255"
   ]
  },
  {
   "cell_type": "code",
   "execution_count": 244,
   "id": "519fa4ea-952b-4455-933a-5077322f6e34",
   "metadata": {},
   "outputs": [
    {
     "name": "stdout",
     "output_type": "stream",
     "text": [
      "Accuracy on test images: 0.960227485314476\n"
     ]
    }
   ],
   "source": [
    "pred = np.argmax(model.predict(X_test),axis=-1)\n",
    "\n",
    "print(\"Accuracy on test images:\", accuracy_score(labels, pred))"
   ]
  },
  {
   "cell_type": "code",
   "execution_count": 272,
   "id": "30d98132-11bd-47df-889a-51e3afd9052f",
   "metadata": {},
   "outputs": [
    {
     "data": {
      "text/html": [
       "<div>\n",
       "<style scoped>\n",
       "    .dataframe tbody tr th:only-of-type {\n",
       "        vertical-align: middle;\n",
       "    }\n",
       "\n",
       "    .dataframe tbody tr th {\n",
       "        vertical-align: top;\n",
       "    }\n",
       "\n",
       "    .dataframe thead th {\n",
       "        text-align: right;\n",
       "    }\n",
       "</style>\n",
       "<table border=\"1\" class=\"dataframe\">\n",
       "  <thead>\n",
       "    <tr style=\"text-align: right;\">\n",
       "      <th></th>\n",
       "      <th>precision</th>\n",
       "      <th>recall</th>\n",
       "      <th>f1-score</th>\n",
       "      <th>support</th>\n",
       "    </tr>\n",
       "  </thead>\n",
       "  <tbody>\n",
       "    <tr>\n",
       "      <th>0</th>\n",
       "      <td>0.935484</td>\n",
       "      <td>0.966667</td>\n",
       "      <td>0.950820</td>\n",
       "      <td>60.000000</td>\n",
       "    </tr>\n",
       "    <tr>\n",
       "      <th>1</th>\n",
       "      <td>0.980900</td>\n",
       "      <td>0.998611</td>\n",
       "      <td>0.989677</td>\n",
       "      <td>720.000000</td>\n",
       "    </tr>\n",
       "    <tr>\n",
       "      <th>2</th>\n",
       "      <td>0.976471</td>\n",
       "      <td>0.996000</td>\n",
       "      <td>0.986139</td>\n",
       "      <td>750.000000</td>\n",
       "    </tr>\n",
       "    <tr>\n",
       "      <th>3</th>\n",
       "      <td>0.993088</td>\n",
       "      <td>0.957778</td>\n",
       "      <td>0.975113</td>\n",
       "      <td>450.000000</td>\n",
       "    </tr>\n",
       "    <tr>\n",
       "      <th>4</th>\n",
       "      <td>0.998452</td>\n",
       "      <td>0.977273</td>\n",
       "      <td>0.987749</td>\n",
       "      <td>660.000000</td>\n",
       "    </tr>\n",
       "    <tr>\n",
       "      <th>...</th>\n",
       "      <td>...</td>\n",
       "      <td>...</td>\n",
       "      <td>...</td>\n",
       "      <td>...</td>\n",
       "    </tr>\n",
       "    <tr>\n",
       "      <th>203</th>\n",
       "      <td>0.968504</td>\n",
       "      <td>0.976190</td>\n",
       "      <td>0.972332</td>\n",
       "      <td>252.000000</td>\n",
       "    </tr>\n",
       "    <tr>\n",
       "      <th>204</th>\n",
       "      <td>0.911877</td>\n",
       "      <td>0.944444</td>\n",
       "      <td>0.927875</td>\n",
       "      <td>252.000000</td>\n",
       "    </tr>\n",
       "    <tr>\n",
       "      <th>accuracy</th>\n",
       "      <td>0.960227</td>\n",
       "      <td>0.960227</td>\n",
       "      <td>0.960227</td>\n",
       "      <td>0.960227</td>\n",
       "    </tr>\n",
       "    <tr>\n",
       "      <th>macro avg</th>\n",
       "      <td>0.958841</td>\n",
       "      <td>0.956008</td>\n",
       "      <td>0.956038</td>\n",
       "      <td>53454.000000</td>\n",
       "    </tr>\n",
       "    <tr>\n",
       "      <th>weighted avg</th>\n",
       "      <td>0.963332</td>\n",
       "      <td>0.960227</td>\n",
       "      <td>0.960662</td>\n",
       "      <td>53454.000000</td>\n",
       "    </tr>\n",
       "  </tbody>\n",
       "</table>\n",
       "<p>208 rows × 4 columns</p>\n",
       "</div>"
      ],
      "text/plain": [
       "              precision    recall  f1-score       support\n",
       "0              0.935484  0.966667  0.950820     60.000000\n",
       "1              0.980900  0.998611  0.989677    720.000000\n",
       "2              0.976471  0.996000  0.986139    750.000000\n",
       "3              0.993088  0.957778  0.975113    450.000000\n",
       "4              0.998452  0.977273  0.987749    660.000000\n",
       "...                 ...       ...       ...           ...\n",
       "203            0.968504  0.976190  0.972332    252.000000\n",
       "204            0.911877  0.944444  0.927875    252.000000\n",
       "accuracy       0.960227  0.960227  0.960227      0.960227\n",
       "macro avg      0.958841  0.956008  0.956038  53454.000000\n",
       "weighted avg   0.963332  0.960227  0.960662  53454.000000\n",
       "\n",
       "[208 rows x 4 columns]"
      ]
     },
     "execution_count": 272,
     "metadata": {},
     "output_type": "execute_result"
    }
   ],
   "source": [
    "report = pd.DataFrame(classification_report(labels, pred, output_dict=True)).T\n",
    "report"
   ]
  },
  {
   "cell_type": "code",
   "execution_count": 276,
   "id": "2ed95b55-44f5-4aeb-9dd8-529913f2239c",
   "metadata": {},
   "outputs": [
    {
     "data": {
      "image/png": "[encoded data removed]",
      "text/plain": [
       "<Figure size 864x432 with 1 Axes>"
      ]
     },
     "metadata": {
      "needs_background": "light"
     },
     "output_type": "display_data"
    }
   ],
   "source": [
    "report[\"f1-score\"].plot(figsize=(12, 6));"
   ]
  }
 ],
 "metadata": {
  "kernelspec": {
   "display_name": "Python 3 (ipykernel)",
   "language": "python",
   "name": "python3"
  },
  "language_info": {
   "codemirror_mode": {
    "name": "ipython",
    "version": 3
   },
   "file_extension": ".py",
   "mimetype": "text/x-python",
   "name": "python",
   "nbconvert_exporter": "python",
   "pygments_lexer": "ipython3",
   "version": "3.9.10"
  }
 },
 "nbformat": 4,
 "nbformat_minor": 5
}
